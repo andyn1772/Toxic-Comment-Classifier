{
 "cells": [
  {
   "cell_type": "markdown",
   "metadata": {},
   "source": [
    "CS 175 Final Project: Classifying Toxic Comments\n",
    "\n",
    "Team AMA"
   ]
  },
  {
   "cell_type": "markdown",
   "metadata": {},
   "source": [
    "#### Loading the Data and Cleaning"
   ]
  },
  {
   "cell_type": "code",
   "execution_count": 1,
   "metadata": {},
   "outputs": [],
   "source": [
    "import warnings\n",
    "warnings.filterwarnings('ignore')\n",
    "\n",
    "import pandas as pd\n",
    "import numpy as np\n",
    "import re\n",
    "np.random.seed(0)"
   ]
  },
  {
   "cell_type": "code",
   "execution_count": 2,
   "metadata": {},
   "outputs": [
    {
     "name": "stderr",
     "output_type": "stream",
     "text": [
      "[nltk_data] Downloading package stopwords to\n",
      "[nltk_data]     C:\\Users\\m-public\\AppData\\Roaming\\nltk_data...\n",
      "[nltk_data]   Package stopwords is already up-to-date!\n"
     ]
    }
   ],
   "source": [
    "import nltk\n",
    "nltk.download('stopwords')\n",
    "stop_words = set(nltk.corpus.stopwords.words('english'))\n",
    "\n",
    "re_punc = re.compile(r'[\"\\'#-]') #these should not be parsed as spaces (others special chars are)\n",
    "re_alpha = re.compile(r'[a-zA-Z]+')\n",
    "\n",
    "# comment text has to be cleaned up, there's stuff like urls and ip addresses\n",
    "def prepareText(line):\n",
    "    #Cleaning up comments\n",
    "    no_punc = re_punc.sub('',str(line))\n",
    "    tokens = re_alpha.findall(no_punc.lower())\n",
    "    return ' '.join(token for token in tokens if token not in stop_words).lstrip()"
   ]
  },
  {
   "cell_type": "code",
   "execution_count": 3,
   "metadata": {},
   "outputs": [],
   "source": [
    "## example case\n",
    "#c = \"You are gay or antisemmitian? \\n\\nArchangel WHite Tiger\\n\\nMeow! Greetingshhh!\\n\\nUh, there are two ways, why you do erased my comment about WW2, that holocaust was brutally slaying of Jews and not gays/Gypsys/Slavs/anyone...\\n\\n1 - If you are anti-semitian, than shave your head bald and go to the skinhead meetings!\\n\\n2 - If you doubt words of the Bible, that homosexuality is a deadly sin, make a pentagram tatoo on your forehead go to the satanistic masses with your gay pals!\\n\\n3 - First and last warning, you fucking gay - I won't appreciate if any more nazi shwain would write in my page! I don't wish to talk to you anymore!\\n\\nBeware of the Dark Side!\"\n",
    "#prepareText(c)"
   ]
  },
  {
   "cell_type": "code",
   "execution_count": 4,
   "metadata": {},
   "outputs": [],
   "source": [
    "classes = ['toxic','severe_toxic','obscene', 'threat', 'insult', 'identity_hate']"
   ]
  },
  {
   "cell_type": "code",
   "execution_count": 5,
   "metadata": {},
   "outputs": [],
   "source": [
    "\"\"\"split the data into non toxic vs toxic comments. create new dataset with the same amount of nontoxic to toxic corpus.\"\"\"\n",
    "def balance_data(df, mini=False):\n",
    "    '''use after transforming comments'''\n",
    "    labels = train.loc[:, 'toxic':'identity_hate']  \n",
    "    non_toxic = df.loc[~labels.any(axis='columns')]\n",
    "    toxic = df.loc[labels.any(axis='columns')]\n",
    "    n_toxic = len(toxic)\n",
    "    \n",
    "    non_toxic_trimmed = non_toxic.sample(n_toxic)\n",
    "    if mini: toxic = toxic.sample(n_toxic // 10)\n",
    "    return pd.concat([non_toxic_trimmed,toxic], axis=0)"
   ]
  },
  {
   "cell_type": "code",
   "execution_count": 6,
   "metadata": {},
   "outputs": [],
   "source": [
    "train = pd.read_csv('data/train.csv')\n",
    "train['comment_text'] = train['comment_text'].apply(prepareText)\n",
    "x = train['comment_text']\n",
    "\n",
    "#As seen below, y pulls the columns containing the labels for each text comment in the dataset\n",
    "y = train.loc[:, 'toxic':'identity_hate']  \n",
    "#print(y)"
   ]
  },
  {
   "cell_type": "code",
   "execution_count": 7,
   "metadata": {},
   "outputs": [],
   "source": [
    "train_balanced = balance_data(train)\n",
    "x_b = train_balanced['comment_text']\n",
    "y_b = train_balanced.loc[:, 'toxic':'identity_hate']"
   ]
  },
  {
   "cell_type": "code",
   "execution_count": 8,
   "metadata": {},
   "outputs": [],
   "source": [
    "train_mini = balance_data(train, mini=True)\n",
    "x_m = train_mini['comment_text']\n",
    "y_m = train_mini.loc[:, 'toxic':'identity_hate']"
   ]
  },
  {
   "cell_type": "code",
   "execution_count": 9,
   "metadata": {},
   "outputs": [
    {
     "data": {
      "text/plain": [
       "(32450, 8)"
      ]
     },
     "execution_count": 9,
     "metadata": {},
     "output_type": "execute_result"
    }
   ],
   "source": [
    "train_balanced.shape"
   ]
  },
  {
   "cell_type": "markdown",
   "metadata": {},
   "source": [
    "### Basic / Naive Bayes Logistic Model"
   ]
  },
  {
   "cell_type": "code",
   "execution_count": 10,
   "metadata": {},
   "outputs": [],
   "source": [
    "from sklearn.feature_extraction.text import *\n",
    "from sklearn.model_selection import train_test_split\n",
    "from sklearn.linear_model import LogisticRegression\n",
    "from sklearn.model_selection import cross_val_score\n",
    "from sklearn import metrics\n",
    "from sklearn.metrics import classification_report\n",
    "from sklearn.metrics import confusion_matrix\n",
    "from sklearn.model_selection import GridSearchCV\n",
    "from sklearn.pipeline import make_pipeline"
   ]
  },
  {
   "cell_type": "code",
   "execution_count": 11,
   "metadata": {},
   "outputs": [
    {
     "name": "stdout",
     "output_type": "stream",
     "text": [
      "(119678, 401)\n",
      "(119678, 6)\n"
     ]
    }
   ],
   "source": [
    "X_train, Xt, Y_train, Yt = train_test_split(x,y, random_state=26)\n",
    "X_test, X_val, Y_test, Y_val = train_test_split(Xt, Yt, test_size=0.5, random_state=26)\n",
    "#print(X_train)\n",
    "\n",
    "# create Bag of Words array (might use a Tf-idf vectorizer instead of counts later\n",
    "#        as importance of words seems relevant for this problem\n",
    "vectorizer = CountVectorizer(stop_words='english', min_df=0.01, ngram_range=(1,1))\n",
    "X_tr = vectorizer.fit_transform(X_train)\n",
    "print(X_tr.shape)\n",
    "print(Y_train.shape)\n",
    "X_t = vectorizer.transform(X_test)\n",
    "#print(X_test)"
   ]
  },
  {
   "cell_type": "code",
   "execution_count": 12,
   "metadata": {},
   "outputs": [
    {
     "name": "stdout",
     "output_type": "stream",
     "text": [
      "(24337, 401)\n",
      "(24337, 6)\n"
     ]
    }
   ],
   "source": [
    "#repeat for balanced\n",
    "X_train_b, Xt_b, Y_train_b, Yt_b = train_test_split(x_b,y_b, random_state=26)\n",
    "X_test_b, X_val_b, Y_test_b, Y_val_b = train_test_split(Xt_b, Yt_b, test_size=0.5, random_state=26)\n",
    "\n",
    "X_tr_b = vectorizer.transform(X_train_b)\n",
    "print(X_tr_b.shape)\n",
    "print(Y_train_b.shape)\n",
    "X_t_b = vectorizer.transform(X_test_b)\n",
    "#print(X_test)"
   ]
  },
  {
   "cell_type": "code",
   "execution_count": 13,
   "metadata": {},
   "outputs": [
    {
     "name": "stdout",
     "output_type": "stream",
     "text": [
      "(13385, 401)\n",
      "(13385, 6)\n"
     ]
    }
   ],
   "source": [
    "#repeat for mini\n",
    "X_train_m, Xt_m, Y_train_m, Yt_m = train_test_split(x_m,y_m, random_state=26)\n",
    "X_test_m, X_val_m, Y_test_m, Y_val_m = train_test_split(Xt_m, Yt_m, test_size=0.5, random_state=26)\n",
    "\n",
    "X_tr_m = vectorizer.transform(X_train_m)\n",
    "print(X_tr_m.shape)\n",
    "print(Y_train_m.shape)\n",
    "X_t_m = vectorizer.transform(X_test_m)\n",
    "#print(X_test)"
   ]
  },
  {
   "cell_type": "code",
   "execution_count": 14,
   "metadata": {},
   "outputs": [],
   "source": [
    "# Current plan for simple classifier is to run a logistic regression classifier on each label\n",
    "# If this is too difficult right now then we'll try it just on the most common labels\n",
    "#using this link for help: https://www.kaggle.com/code/adamschroeder/countvectorizer-tfidfvectorizer-predict-comments#TfidfVectorizer----Brief-Tutorial\n",
    "def train_basic(Xtr, Ytr, Xte, Yte, test_features):\n",
    "    classifiers = dict()\n",
    "    scores = {c:dict() for c in classes}\n",
    "    for label in classes:\n",
    "        print(\"Logistic Regression for {}\".format(label))\n",
    "        #run logistic regression for each class\n",
    "        y_tr = Ytr[label]\n",
    "        y_te = Yte[label]\n",
    "        \n",
    "        label_classifier = LogisticRegression(solver='sag', C=10)\n",
    "        label_classifier.fit(Xtr, y_tr)\n",
    "        classifiers[label] = label_classifier\n",
    "        \n",
    "        loss = np.mean(cross_val_score(label_classifier, Xtr, y_tr, cv=5, scoring='neg_log_loss'))\n",
    "        print(\"Log loss score: {}\".format(loss))\n",
    "        scores[label]['log'] = loss\n",
    "        \n",
    "        accuracy = np.mean(cross_val_score(label_classifier, Xtr, y_tr, cv = 5, scoring = 'accuracy'))\n",
    "        print(\"Accuracy score: {}\".format(accuracy))\n",
    "        scores[label]['acc'] = accuracy\n",
    "        \n",
    "        y_prediction = label_classifier.predict(test_features)\n",
    "        y_probability = label_classifier.predict_proba(test_features)[:, 1]\n",
    "        auc = metrics.roc_auc_score(y_te, y_probability)\n",
    "        print(\"ROC AUC score: {}\".format(auc))\n",
    "        scores[label]['auc'] = auc\n",
    "        \n",
    "        #print(confusion_matrix(y_te, y_prediction))\n",
    "        #print(classification_report(y_te, y_prediction))\n",
    "    return classifiers, scores"
   ]
  },
  {
   "cell_type": "code",
   "execution_count": 15,
   "metadata": {},
   "outputs": [
    {
     "name": "stdout",
     "output_type": "stream",
     "text": [
      "Logistic Regression for toxic\n",
      "Log loss score: -0.35540599139288387\n",
      "Accuracy score: 0.919107927525417\n",
      "ROC AUC score: 0.7604606683655173\n",
      "Logistic Regression for severe_toxic\n",
      "Log loss score: -0.20784901081994986\n",
      "Accuracy score: 0.9897642033934375\n",
      "ROC AUC score: 0.7645450863108653\n",
      "Logistic Regression for obscene\n",
      "Log loss score: -0.28453531408137916\n",
      "Accuracy score: 0.9584886006860158\n",
      "ROC AUC score: 0.7649535855523228\n",
      "Logistic Regression for threat\n",
      "Log loss score: -0.18955186877861466\n",
      "Accuracy score: 0.9970253514978736\n",
      "ROC AUC score: 0.6632039494535094\n",
      "Logistic Regression for insult\n",
      "Log loss score: -0.2834260941818735\n",
      "Accuracy score: 0.954110208868381\n",
      "ROC AUC score: 0.7238880040716342\n",
      "Logistic Regression for identity_hate\n",
      "Log loss score: -0.20226665782161582\n",
      "Accuracy score: 0.9910760544936208\n",
      "ROC AUC score: 0.6590697819145006\n",
      "Stored 'basic_classifiers' (dict)\n",
      "Wall time: 5min 18s\n"
     ]
    }
   ],
   "source": [
    "%%time\n",
    "basic_classifiers, basic_scores = train_basic(X_tr,Y_train, X_test, Y_test, X_t)\n",
    "%store basic_classifiers"
   ]
  },
  {
   "cell_type": "code",
   "execution_count": 16,
   "metadata": {},
   "outputs": [
    {
     "name": "stdout",
     "output_type": "stream",
     "text": [
      "Logistic Regression for toxic\n",
      "Log loss score: -0.6102808242943674\n",
      "Accuracy score: 0.7175890773456439\n",
      "ROC AUC score: 0.8226167820965613\n",
      "Logistic Regression for severe_toxic\n",
      "Log loss score: -0.4321771779255754\n",
      "Accuracy score: 0.951884043241261\n",
      "ROC AUC score: 0.7302513274764929\n",
      "Logistic Regression for obscene\n",
      "Log loss score: -0.5518477759890607\n",
      "Accuracy score: 0.8238073258115334\n",
      "ROC AUC score: 0.7894721723857018\n",
      "Logistic Regression for threat\n",
      "Log loss score: -0.3815746420097917\n",
      "Accuracy score: 0.9861527814896796\n",
      "ROC AUC score: 0.6273633088006944\n",
      "Logistic Regression for insult\n",
      "Log loss score: -0.5601830753343835\n",
      "Accuracy score: 0.7895799676489105\n",
      "ROC AUC score: 0.7240221912216797\n",
      "Logistic Regression for identity_hate\n",
      "Log loss score: -0.4184202456515532\n",
      "Accuracy score: 0.9561162079768852\n",
      "ROC AUC score: 0.6462649089767735\n",
      "Stored 'basic_classifiers_balanced' (dict)\n",
      "Wall time: 31.7 s\n"
     ]
    }
   ],
   "source": [
    "%%time\n",
    "basic_classifiers_balanced, balanced_scores = train_basic(X_tr_b, Y_train_b, X_test_b, Y_test_b, X_t_b)\n",
    "%store basic_classifiers_balanced"
   ]
  },
  {
   "cell_type": "code",
   "execution_count": 17,
   "metadata": {
    "scrolled": false
   },
   "outputs": [
    {
     "name": "stdout",
     "output_type": "stream",
     "text": [
      "Logistic Regression for toxic\n",
      "Log loss score: -0.3829188327070937\n",
      "Accuracy score: 0.9242435562196489\n",
      "ROC AUC score: 0.6957647605020493\n",
      "Logistic Regression for severe_toxic\n",
      "Log loss score: -0.2682512330001349\n",
      "Accuracy score: 0.9912588718714979\n",
      "ROC AUC score: 0.774631097364521\n",
      "Logistic Regression for obscene\n",
      "Log loss score: -0.3319897101397337\n",
      "Accuracy score: 0.9601793051923796\n",
      "ROC AUC score: 0.7357654735593254\n",
      "Logistic Regression for threat\n",
      "Log loss score: -0.2589296116666976\n",
      "Accuracy score: 0.9978333955920806\n",
      "ROC AUC score: 0.7108778625954199\n",
      "Logistic Regression for insult\n",
      "Log loss score: -0.32339248926984265\n",
      "Accuracy score: 0.9609264101606275\n",
      "ROC AUC score: 0.727461207120245\n",
      "Logistic Regression for identity_hate\n",
      "Log loss score: -0.26587155460540723\n",
      "Accuracy score: 0.9929772132984684\n",
      "ROC AUC score: 0.7053129221071588\n",
      "Stored 'basic_classifiers_mini' (dict)\n",
      "Wall time: 18.3 s\n"
     ]
    }
   ],
   "source": [
    "%%time\n",
    "basic_classifiers_mini, mini_scores = train_basic(X_tr_m, Y_train_m, X_test_m, Y_test_m, X_t_m)\n",
    "%store basic_classifiers_mini"
   ]
  },
  {
   "cell_type": "code",
   "execution_count": 18,
   "metadata": {},
   "outputs": [],
   "source": [
    "mini_scores_pd = pd.DataFrame(mini_scores)"
   ]
  },
  {
   "cell_type": "code",
   "execution_count": 19,
   "metadata": {},
   "outputs": [
    {
     "data": {
      "text/html": [
       "<div>\n",
       "<style scoped>\n",
       "    .dataframe tbody tr th:only-of-type {\n",
       "        vertical-align: middle;\n",
       "    }\n",
       "\n",
       "    .dataframe tbody tr th {\n",
       "        vertical-align: top;\n",
       "    }\n",
       "\n",
       "    .dataframe thead th {\n",
       "        text-align: right;\n",
       "    }\n",
       "</style>\n",
       "<table border=\"1\" class=\"dataframe\">\n",
       "  <thead>\n",
       "    <tr style=\"text-align: right;\">\n",
       "      <th></th>\n",
       "      <th>toxic</th>\n",
       "      <th>severe_toxic</th>\n",
       "      <th>obscene</th>\n",
       "      <th>threat</th>\n",
       "      <th>insult</th>\n",
       "      <th>identity_hate</th>\n",
       "    </tr>\n",
       "  </thead>\n",
       "  <tbody>\n",
       "    <tr>\n",
       "      <th>log</th>\n",
       "      <td>-0.382919</td>\n",
       "      <td>-0.268251</td>\n",
       "      <td>-0.331990</td>\n",
       "      <td>-0.258930</td>\n",
       "      <td>-0.323392</td>\n",
       "      <td>-0.265872</td>\n",
       "    </tr>\n",
       "    <tr>\n",
       "      <th>acc</th>\n",
       "      <td>0.924244</td>\n",
       "      <td>0.991259</td>\n",
       "      <td>0.960179</td>\n",
       "      <td>0.997833</td>\n",
       "      <td>0.960926</td>\n",
       "      <td>0.992977</td>\n",
       "    </tr>\n",
       "    <tr>\n",
       "      <th>auc</th>\n",
       "      <td>0.695765</td>\n",
       "      <td>0.774631</td>\n",
       "      <td>0.735765</td>\n",
       "      <td>0.710878</td>\n",
       "      <td>0.727461</td>\n",
       "      <td>0.705313</td>\n",
       "    </tr>\n",
       "  </tbody>\n",
       "</table>\n",
       "</div>"
      ],
      "text/plain": [
       "        toxic  severe_toxic   obscene    threat    insult  identity_hate\n",
       "log -0.382919     -0.268251 -0.331990 -0.258930 -0.323392      -0.265872\n",
       "acc  0.924244      0.991259  0.960179  0.997833  0.960926       0.992977\n",
       "auc  0.695765      0.774631  0.735765  0.710878  0.727461       0.705313"
      ]
     },
     "execution_count": 19,
     "metadata": {},
     "output_type": "execute_result"
    }
   ],
   "source": [
    "mini_scores_pd"
   ]
  },
  {
   "cell_type": "markdown",
   "metadata": {},
   "source": [
    "### Advanced Model"
   ]
  },
  {
   "cell_type": "code",
   "execution_count": 20,
   "metadata": {},
   "outputs": [],
   "source": [
    "import tensorflow as tf\n",
    "from tensorflow.keras import Sequential\n",
    "from tensorflow.keras.layers import Dense, LSTM, Embedding\n",
    "from tensorflow.keras.preprocessing.text import Tokenizer\n",
    "from tensorflow.keras.preprocessing.sequence import pad_sequences"
   ]
  },
  {
   "cell_type": "code",
   "execution_count": 21,
   "metadata": {},
   "outputs": [],
   "source": [
    "tokenizer = tf.keras.preprocessing.text.Tokenizer(\n",
    "    num_words=4000,\n",
    "    filters='!\"#$%&()*+,-./:;<=>?@[\\\\]^_`{|}~\\t\\n',\n",
    "    lower=True,\n",
    "    split=' ',\n",
    "    char_level=False)\n",
    "\n",
    "def tokenize(X, fit=True):\n",
    "    if fit: tokenizer.fit_on_texts(X)\n",
    "    sequence = tokenizer.texts_to_sequences(X)\n",
    "    return pad_sequences(sequence,maxlen=50)"
   ]
  },
  {
   "cell_type": "code",
   "execution_count": 22,
   "metadata": {},
   "outputs": [],
   "source": [
    "X_train_seq = tokenize(X_train)\n",
    "X_val_seq = tokenize(X_val)\n",
    "X_test_seq = tokenize(X_test, False)"
   ]
  },
  {
   "cell_type": "code",
   "execution_count": 23,
   "metadata": {},
   "outputs": [],
   "source": [
    "X_train_seq_b = tokenize(X_train_b)\n",
    "X_val_seq_b = tokenize(X_val_b)\n",
    "X_test_seq_b = tokenize(X_test_b, False)"
   ]
  },
  {
   "cell_type": "code",
   "execution_count": 24,
   "metadata": {},
   "outputs": [],
   "source": [
    "X_train_seq_m = tokenize(X_train_m)\n",
    "X_val_seq_m = tokenize(X_val_m)\n",
    "X_test_seq_m = tokenize(X_test_m, False)"
   ]
  },
  {
   "cell_type": "code",
   "execution_count": 25,
   "metadata": {},
   "outputs": [],
   "source": [
    "def train_advanced(X_tr, Y_tr, X_v, Y_v, epochs=5):\n",
    "    model = Sequential()\n",
    "    model.add(Embedding(4000, 300, input_length=X_tr.shape[1]))\n",
    "    model.add(LSTM(256))\n",
    "    model.add(Dense(64, activation='relu'))\n",
    "    model.add(Dense(6, activation='sigmoid'))\n",
    "\n",
    "    model.compile(loss='binary_crossentropy',optimizer='adam', metrics=['accuracy'])\n",
    "    history_obj = model.fit(X_tr,np.asarray(Y_tr),batch_size=300,epochs=epochs, validation_data=(X_v, np.asarray(Y_v)))\n",
    "    return model, history_obj"
   ]
  },
  {
   "cell_type": "code",
   "execution_count": 26,
   "metadata": {},
   "outputs": [
    {
     "name": "stdout",
     "output_type": "stream",
     "text": [
      "Epoch 1/5\n",
      "399/399 [==============================] - 357s 889ms/step - loss: 0.0953 - accuracy: 0.9811 - val_loss: 0.2058 - val_accuracy: 0.9940\n",
      "Epoch 2/5\n",
      "399/399 [==============================] - 355s 890ms/step - loss: 0.0558 - accuracy: 0.9942 - val_loss: 0.2231 - val_accuracy: 0.9939\n",
      "Epoch 3/5\n",
      "399/399 [==============================] - 358s 896ms/step - loss: 0.0518 - accuracy: 0.9942 - val_loss: 0.2170 - val_accuracy: 0.9936\n",
      "Epoch 4/5\n",
      "399/399 [==============================] - 359s 900ms/step - loss: 0.0490 - accuracy: 0.9922 - val_loss: 0.2228 - val_accuracy: 0.9902\n",
      "Epoch 5/5\n",
      "399/399 [==============================] - 337s 845ms/step - loss: 0.0466 - accuracy: 0.9728 - val_loss: 0.2482 - val_accuracy: 0.9704\n"
     ]
    }
   ],
   "source": [
    "advanced, history_advanced = train_advanced(X_train_seq, Y_train, X_val_seq, Y_val)\n",
    "#%store advanced history_advanced"
   ]
  },
  {
   "cell_type": "code",
   "execution_count": 27,
   "metadata": {},
   "outputs": [
    {
     "name": "stdout",
     "output_type": "stream",
     "text": [
      "Epoch 1/10\n",
      "82/82 [==============================] - 67s 786ms/step - loss: 0.3602 - accuracy: 0.9477 - val_loss: 0.4369 - val_accuracy: 0.9677\n",
      "Epoch 2/10\n",
      "82/82 [==============================] - 64s 780ms/step - loss: 0.2164 - accuracy: 0.9713 - val_loss: 0.4046 - val_accuracy: 0.9680\n",
      "Epoch 3/10\n",
      "82/82 [==============================] - 64s 783ms/step - loss: 0.1908 - accuracy: 0.9694 - val_loss: 0.4391 - val_accuracy: 0.9680\n",
      "Epoch 4/10\n",
      "82/82 [==============================] - 64s 784ms/step - loss: 0.1807 - accuracy: 0.9679 - val_loss: 0.4278 - val_accuracy: 0.9618\n",
      "Epoch 5/10\n",
      "82/82 [==============================] - 65s 791ms/step - loss: 0.1734 - accuracy: 0.9542 - val_loss: 0.4768 - val_accuracy: 0.9021\n",
      "Epoch 6/10\n",
      "82/82 [==============================] - 64s 778ms/step - loss: 0.1640 - accuracy: 0.9461 - val_loss: 0.4764 - val_accuracy: 0.9236\n",
      "Epoch 7/10\n",
      "82/82 [==============================] - 63s 770ms/step - loss: 0.1561 - accuracy: 0.9306 - val_loss: 0.5254 - val_accuracy: 0.9305\n",
      "Epoch 8/10\n",
      "82/82 [==============================] - 63s 773ms/step - loss: 0.1517 - accuracy: 0.9081 - val_loss: 0.5401 - val_accuracy: 0.8573\n",
      "Epoch 9/10\n",
      "82/82 [==============================] - 67s 822ms/step - loss: 0.1443 - accuracy: 0.8900 - val_loss: 0.5707 - val_accuracy: 0.8977\n",
      "Epoch 10/10\n",
      "82/82 [==============================] - 68s 829ms/step - loss: 0.1378 - accuracy: 0.8634 - val_loss: 0.5973 - val_accuracy: 0.8267\n"
     ]
    }
   ],
   "source": [
    "advanced_b, history_advanced_b = train_advanced(X_train_seq_b, Y_train_b, X_val_seq_b, Y_val_b, 10)\n",
    "#%store advanced_b history_advanced_b"
   ]
  },
  {
   "cell_type": "code",
   "execution_count": 28,
   "metadata": {},
   "outputs": [
    {
     "name": "stdout",
     "output_type": "stream",
     "text": [
      "Epoch 1/20\n",
      "45/45 [==============================] - 40s 829ms/step - loss: 0.2019 - accuracy: 0.8812 - val_loss: 0.1253 - val_accuracy: 0.9951\n",
      "Epoch 2/20\n",
      "45/45 [==============================] - 38s 838ms/step - loss: 0.1217 - accuracy: 0.9715 - val_loss: 0.1196 - val_accuracy: 0.9565\n",
      "Epoch 3/20\n",
      "45/45 [==============================] - 35s 782ms/step - loss: 0.0871 - accuracy: 0.9533 - val_loss: 0.1298 - val_accuracy: 0.9525\n",
      "Epoch 4/20\n",
      "45/45 [==============================] - 35s 778ms/step - loss: 0.0562 - accuracy: 0.9934 - val_loss: 0.1352 - val_accuracy: 0.9955\n",
      "Epoch 5/20\n",
      "45/45 [==============================] - 35s 778ms/step - loss: 0.0464 - accuracy: 0.9949 - val_loss: 0.1624 - val_accuracy: 0.9955\n",
      "Epoch 6/20\n",
      "45/45 [==============================] - 35s 773ms/step - loss: 0.0424 - accuracy: 0.9845 - val_loss: 0.1627 - val_accuracy: 0.9955\n",
      "Epoch 7/20\n",
      "45/45 [==============================] - 35s 777ms/step - loss: 0.0393 - accuracy: 0.9866 - val_loss: 0.1766 - val_accuracy: 0.9848\n",
      "Epoch 8/20\n",
      "45/45 [==============================] - 35s 777ms/step - loss: 0.0348 - accuracy: 0.9884 - val_loss: 0.1934 - val_accuracy: 0.9955\n",
      "Epoch 9/20\n",
      "45/45 [==============================] - 35s 773ms/step - loss: 0.0335 - accuracy: 0.9148 - val_loss: 0.1889 - val_accuracy: 0.7526\n",
      "Epoch 10/20\n",
      "45/45 [==============================] - 36s 800ms/step - loss: 0.0305 - accuracy: 0.9209 - val_loss: 0.2030 - val_accuracy: 0.7427\n",
      "Epoch 11/20\n",
      "45/45 [==============================] - 35s 779ms/step - loss: 0.0285 - accuracy: 0.7827 - val_loss: 0.2135 - val_accuracy: 0.7633\n",
      "Epoch 12/20\n",
      "45/45 [==============================] - 35s 782ms/step - loss: 0.0268 - accuracy: 0.7003 - val_loss: 0.2209 - val_accuracy: 0.6347\n",
      "Epoch 13/20\n",
      "45/45 [==============================] - 36s 795ms/step - loss: 0.0245 - accuracy: 0.5834 - val_loss: 0.2344 - val_accuracy: 0.8732\n",
      "Epoch 14/20\n",
      "45/45 [==============================] - 35s 781ms/step - loss: 0.0225 - accuracy: 0.5847 - val_loss: 0.2311 - val_accuracy: 0.5670\n",
      "Epoch 15/20\n",
      "45/45 [==============================] - 35s 774ms/step - loss: 0.0214 - accuracy: 0.4172 - val_loss: 0.2567 - val_accuracy: 0.5979\n",
      "Epoch 16/20\n",
      "45/45 [==============================] - 35s 773ms/step - loss: 0.0202 - accuracy: 0.4349 - val_loss: 0.2559 - val_accuracy: 0.4379\n",
      "Epoch 17/20\n",
      "45/45 [==============================] - 35s 768ms/step - loss: 0.0183 - accuracy: 0.3443 - val_loss: 0.2616 - val_accuracy: 0.5621\n",
      "Epoch 18/20\n",
      "45/45 [==============================] - 35s 769ms/step - loss: 0.0170 - accuracy: 0.3246 - val_loss: 0.2713 - val_accuracy: 0.3658\n",
      "Epoch 19/20\n",
      "45/45 [==============================] - 36s 794ms/step - loss: 0.0159 - accuracy: 0.2947 - val_loss: 0.2814 - val_accuracy: 0.2716\n",
      "Epoch 20/20\n",
      "45/45 [==============================] - 36s 797ms/step - loss: 0.0148 - accuracy: 0.2785 - val_loss: 0.2934 - val_accuracy: 0.3263\n"
     ]
    }
   ],
   "source": [
    "advanced_m, history_advanced_m = train_advanced(X_train_seq_m, Y_train_m, X_val_seq_m, Y_val_m, 20)\n",
    "#%store advanced_m history_advanced_m"
   ]
  },
  {
   "cell_type": "code",
   "execution_count": 29,
   "metadata": {},
   "outputs": [],
   "source": [
    "import matplotlib.pyplot as plt\n",
    "plt.style.use('seaborn')\n",
    "def plot_loss(history_obj, title):\n",
    "    plt.figure()\n",
    "    plt.title(title)\n",
    "    plt.ylabel('Loss', fontsize=16)\n",
    "    plt.xlabel('Epoch', fontsize=14)\n",
    "    plt.plot(history_obj.history['loss'], color='b', label='Training Loss')\n",
    "    plt.plot(history_obj.history['val_loss'], color='r', label='Validation Loss')\n",
    "    plt.legend(loc='upper right')\n",
    "    plt.show()"
   ]
  },
  {
   "cell_type": "code",
   "execution_count": 30,
   "metadata": {},
   "outputs": [],
   "source": [
    "#%store -r history_advanced history_advanced_b"
   ]
  },
  {
   "cell_type": "code",
   "execution_count": 31,
   "metadata": {},
   "outputs": [
    {
     "data": {
      "image/png": "[encoded data removed]",
      "text/plain": [
       "<Figure size 576x396 with 1 Axes>"
      ]
     },
     "metadata": {},
     "output_type": "display_data"
    },
    {
     "data": {
      "image/png": "[encoded data removed]",
      "text/plain": [
       "<Figure size 576x396 with 1 Axes>"
      ]
     },
     "metadata": {},
     "output_type": "display_data"
    },
    {
     "data": {
      "image/png": "[encoded data removed]",
      "text/plain": [
       "<Figure size 576x396 with 1 Axes>"
      ]
     },
     "metadata": {},
     "output_type": "display_data"
    }
   ],
   "source": [
    "plot_loss(history_advanced, 'RNN Training and Validation Loss - Full Dataset')\n",
    "plot_loss(history_advanced_b, 'RNN Training and Validation Loss - Balanced Dataset')\n",
    "plot_loss(history_advanced_m, 'RNN Training and Validation Loss - Mini Dataset')"
   ]
  },
  {
   "cell_type": "code",
   "execution_count": 32,
   "metadata": {},
   "outputs": [],
   "source": [
    "def plot_accuracy(history_obj, title):\n",
    "    loss_train = history_obj.history['accuracy']\n",
    "    loss_val = history_obj.history['val_accuracy']\n",
    "    epochs = range(1,len(loss_train)+1)\n",
    "    plt.plot(epochs, loss_train, 'g', label='Training accuracy')\n",
    "    plt.plot(epochs, loss_val, 'b', label='validation accuracy')\n",
    "    plt.title(title)\n",
    "    plt.xlabel('Epochs')\n",
    "    plt.ylabel('Accuracy')\n",
    "    plt.legend()\n",
    "    plt.show()"
   ]
  },
  {
   "cell_type": "code",
   "execution_count": 33,
   "metadata": {},
   "outputs": [
    {
     "data": {
      "image/png": "[encoded data removed]",
      "text/plain": [
       "<Figure size 576x396 with 1 Axes>"
      ]
     },
     "metadata": {},
     "output_type": "display_data"
    },
    {
     "data": {
      "image/png": "[encoded data removed]",
      "text/plain": [
       "<Figure size 576x396 with 1 Axes>"
      ]
     },
     "metadata": {},
     "output_type": "display_data"
    },
    {
     "data": {
      "image/png": "[encoded data removed]",
      "text/plain": [
       "<Figure size 576x396 with 1 Axes>"
      ]
     },
     "metadata": {},
     "output_type": "display_data"
    }
   ],
   "source": [
    "plot_accuracy(history_advanced, 'RNN Training and Validation Accuracy - Full Dataset')\n",
    "plot_accuracy(history_advanced_b, 'RNN Training and Validation Accuracy - Balanced Dataset')\n",
    "plot_accuracy(history_advanced_m, 'RNN Training and Validation Accuracy - Mini Dataset')"
   ]
  },
  {
   "cell_type": "code",
   "execution_count": 34,
   "metadata": {},
   "outputs": [
    {
     "name": "stdout",
     "output_type": "stream",
     "text": [
      "Model: \"sequential\"\n",
      "_________________________________________________________________\n",
      " Layer (type)                Output Shape              Param #   \n",
      "=================================================================\n",
      " embedding (Embedding)       (None, 50, 300)           1200000   \n",
      "                                                                 \n",
      " lstm (LSTM)                 (None, 256)               570368    \n",
      "                                                                 \n",
      " dense (Dense)               (None, 64)                16448     \n",
      "                                                                 \n",
      " dense_1 (Dense)             (None, 6)                 390       \n",
      "                                                                 \n",
      "=================================================================\n",
      "Total params: 1,787,206\n",
      "Trainable params: 1,787,206\n",
      "Non-trainable params: 0\n",
      "_________________________________________________________________\n"
     ]
    }
   ],
   "source": [
    "advanced.summary()"
   ]
  },
  {
   "cell_type": "code",
   "execution_count": 35,
   "metadata": {},
   "outputs": [
    {
     "name": "stdout",
     "output_type": "stream",
     "text": [
      "Model: \"sequential_1\"\n",
      "_________________________________________________________________\n",
      " Layer (type)                Output Shape              Param #   \n",
      "=================================================================\n",
      " embedding_1 (Embedding)     (None, 50, 300)           1200000   \n",
      "                                                                 \n",
      " lstm_1 (LSTM)               (None, 256)               570368    \n",
      "                                                                 \n",
      " dense_2 (Dense)             (None, 64)                16448     \n",
      "                                                                 \n",
      " dense_3 (Dense)             (None, 6)                 390       \n",
      "                                                                 \n",
      "=================================================================\n",
      "Total params: 1,787,206\n",
      "Trainable params: 1,787,206\n",
      "Non-trainable params: 0\n",
      "_________________________________________________________________\n"
     ]
    }
   ],
   "source": [
    "advanced_b.summary()"
   ]
  },
  {
   "cell_type": "code",
   "execution_count": 36,
   "metadata": {},
   "outputs": [
    {
     "name": "stdout",
     "output_type": "stream",
     "text": [
      "Model: \"sequential_2\"\n",
      "_________________________________________________________________\n",
      " Layer (type)                Output Shape              Param #   \n",
      "=================================================================\n",
      " embedding_2 (Embedding)     (None, 50, 300)           1200000   \n",
      "                                                                 \n",
      " lstm_2 (LSTM)               (None, 256)               570368    \n",
      "                                                                 \n",
      " dense_4 (Dense)             (None, 64)                16448     \n",
      "                                                                 \n",
      " dense_5 (Dense)             (None, 6)                 390       \n",
      "                                                                 \n",
      "=================================================================\n",
      "Total params: 1,787,206\n",
      "Trainable params: 1,787,206\n",
      "Non-trainable params: 0\n",
      "_________________________________________________________________\n"
     ]
    }
   ],
   "source": [
    "advanced_m.summary()"
   ]
  },
  {
   "cell_type": "markdown",
   "metadata": {},
   "source": [
    "### Chain Classifier"
   ]
  },
  {
   "cell_type": "code",
   "execution_count": 37,
   "metadata": {},
   "outputs": [],
   "source": [
    "from sklearn.multioutput import ClassifierChain\n",
    "\n",
    "def train_chain(Xtr, Ytr, Xte, Yte, test_features):\n",
    "\n",
    "    label_classifier_multi = LogisticRegression(solver='sag', C=10)\n",
    "    classifier_chain = ClassifierChain(label_classifier_multi, order='random', random_state=0)\n",
    "\n",
    "    classifier_chain.fit(Xtr, Ytr)\n",
    "\n",
    "    loss = np.mean(cross_val_score(classifier_chain, Xtr, Ytr, cv=5, scoring='neg_log_loss'))\n",
    "    print(\"Log loss score: {}\".format(loss))\n",
    "\n",
    "    accuracy = np.mean(cross_val_score(classifier_chain, Xtr, Ytr, cv = 5, scoring = 'accuracy'))\n",
    "    print(\"Accuracy score: {}\".format(accuracy))\n",
    "\n",
    "    y_prediction = classifier_chain.predict(test_features)\n",
    "    y_probability = classifier_chain.predict_proba(test_features)\n",
    "    auc = metrics.roc_auc_score(Yte, y_probability)\n",
    "    print(\"ROC AUC score: {}\".format(auc))\n",
    "\n",
    "    print(classification_report(Yte, y_prediction))\n",
    "    return classifier_chain"
   ]
  },
  {
   "cell_type": "code",
   "execution_count": 38,
   "metadata": {},
   "outputs": [
    {
     "name": "stdout",
     "output_type": "stream",
     "text": [
      "Log loss score: -0.3663183597572212\n",
      "Accuracy score: 0.9027557219642326\n",
      "ROC AUC score: 0.7143579839856301\n",
      "              precision    recall  f1-score   support\n",
      "\n",
      "           0       0.98      0.15      0.25      1873\n",
      "           1       0.71      0.03      0.06       166\n",
      "           2       0.99      0.23      0.37      1011\n",
      "           3       0.00      0.00      0.00        63\n",
      "           4       0.76      0.20      0.31       931\n",
      "           5       0.00      0.00      0.00       169\n",
      "\n",
      "   micro avg       0.91      0.16      0.28      4213\n",
      "   macro avg       0.57      0.10      0.17      4213\n",
      "weighted avg       0.87      0.16      0.27      4213\n",
      " samples avg       0.01      0.01      0.01      4213\n",
      "\n",
      "Wall time: 5min 9s\n"
     ]
    }
   ],
   "source": [
    "%%time\n",
    "classifier_chain = train_chain(X_tr,Y_train, X_test, Y_test, X_t)"
   ]
  },
  {
   "cell_type": "code",
   "execution_count": 39,
   "metadata": {},
   "outputs": [
    {
     "name": "stdout",
     "output_type": "stream",
     "text": [
      "Log loss score: -1.7838488196609312\n",
      "Accuracy score: 0.5484237665197457\n",
      "ROC AUC score: 0.6988335788246519\n",
      "              precision    recall  f1-score   support\n",
      "\n",
      "           0       0.86      0.47      0.61      1921\n",
      "           1       0.62      0.02      0.04       215\n",
      "           2       0.96      0.34      0.50      1065\n",
      "           3       0.00      0.00      0.00        67\n",
      "           4       0.78      0.27      0.40      1020\n",
      "           5       0.00      0.00      0.00       162\n",
      "\n",
      "   micro avg       0.86      0.35      0.50      4450\n",
      "   macro avg       0.54      0.18      0.26      4450\n",
      "weighted avg       0.81      0.35      0.48      4450\n",
      " samples avg       0.21      0.16      0.17      4450\n",
      "\n",
      "Wall time: 31.3 s\n"
     ]
    }
   ],
   "source": [
    "%%time\n",
    "classifier_chain_b = train_chain(X_tr_b,Y_train_b, X_test_b, Y_test_b, X_t_b)"
   ]
  },
  {
   "cell_type": "code",
   "execution_count": 40,
   "metadata": {},
   "outputs": [
    {
     "name": "stdout",
     "output_type": "stream",
     "text": [
      "Log loss score: -0.3346267675518816\n",
      "Accuracy score: 0.911991034740381\n",
      "ROC AUC score: 0.7213358188963884\n",
      "              precision    recall  f1-score   support\n",
      "\n",
      "           0       1.00      0.09      0.17       183\n",
      "           1       1.00      0.07      0.13        14\n",
      "           2       1.00      0.15      0.27        98\n",
      "           3       0.00      0.00      0.00         4\n",
      "           4       0.87      0.14      0.25        90\n",
      "           5       0.00      0.00      0.00        10\n",
      "\n",
      "   micro avg       0.96      0.12      0.21       399\n",
      "   macro avg       0.64      0.08      0.14       399\n",
      "weighted avg       0.93      0.12      0.20       399\n",
      " samples avg       0.01      0.01      0.01       399\n",
      "\n",
      "Wall time: 16.8 s\n"
     ]
    }
   ],
   "source": [
    "%%time\n",
    "classifier_chain_m = train_chain(X_tr_m,Y_train_m, X_test_m, Y_test_m, X_t_m)"
   ]
  },
  {
   "cell_type": "markdown",
   "metadata": {},
   "source": [
    "### Test Predictions"
   ]
  },
  {
   "cell_type": "code",
   "execution_count": 41,
   "metadata": {},
   "outputs": [],
   "source": [
    "test_x = pd.read_csv('data/test.csv')\n",
    "test_y = pd.read_csv('data/test_labels.csv')\n",
    "test = test_x.merge(test_y)\n",
    "for c in classes: test = test[test[c] != -1] #take out entries we don't know the answer to\n",
    "test['comment_text'] = test['comment_text'].apply(prepareText)\n",
    "x_ground = test['comment_text']\n",
    "y_ground = test.loc[:, 'toxic':'identity_hate']  \n",
    "### no need to balance since balancing creates a subset for training\n",
    "x_g = vectorizer.transform(x_ground)"
   ]
  },
  {
   "cell_type": "code",
   "execution_count": 42,
   "metadata": {},
   "outputs": [],
   "source": [
    "xg_seq = tokenize(x_ground)"
   ]
  },
  {
   "cell_type": "code",
   "execution_count": 43,
   "metadata": {},
   "outputs": [],
   "source": [
    "#basic classifiers prediction\n",
    "%store -r basic_classifiers basic_classifiers_balanced basic_classifiers_mini\n",
    "y_hats_basic = test[['comment_text']].copy()\n",
    "y_hats_basic_b = test[['comment_text']].copy()\n",
    "y_hats_basic_m = test[['comment_text']].copy()\n",
    "for label in classes:\n",
    "    y_hats_basic[label] = basic_classifiers[label].predict(x_g)\n",
    "    y_hats_basic_b[label] = basic_classifiers_balanced[label].predict(x_g)\n",
    "    y_hats_basic_m[label] = basic_classifiers_mini[label].predict(x_g)"
   ]
  },
  {
   "cell_type": "code",
   "execution_count": 44,
   "metadata": {},
   "outputs": [
    {
     "data": {
      "text/html": [
       "<div>\n",
       "<style scoped>\n",
       "    .dataframe tbody tr th:only-of-type {\n",
       "        vertical-align: middle;\n",
       "    }\n",
       "\n",
       "    .dataframe tbody tr th {\n",
       "        vertical-align: top;\n",
       "    }\n",
       "\n",
       "    .dataframe thead th {\n",
       "        text-align: right;\n",
       "    }\n",
       "</style>\n",
       "<table border=\"1\" class=\"dataframe\">\n",
       "  <thead>\n",
       "    <tr style=\"text-align: right;\">\n",
       "      <th></th>\n",
       "      <th>comment_text</th>\n",
       "      <th>toxic</th>\n",
       "      <th>severe_toxic</th>\n",
       "      <th>obscene</th>\n",
       "      <th>threat</th>\n",
       "      <th>insult</th>\n",
       "      <th>identity_hate</th>\n",
       "    </tr>\n",
       "  </thead>\n",
       "  <tbody>\n",
       "    <tr>\n",
       "      <th>5</th>\n",
       "      <td>thank understanding think highly would revert ...</td>\n",
       "      <td>0</td>\n",
       "      <td>0</td>\n",
       "      <td>0</td>\n",
       "      <td>0</td>\n",
       "      <td>0</td>\n",
       "      <td>0</td>\n",
       "    </tr>\n",
       "    <tr>\n",
       "      <th>7</th>\n",
       "      <td>dear god site horrible</td>\n",
       "      <td>0</td>\n",
       "      <td>0</td>\n",
       "      <td>0</td>\n",
       "      <td>0</td>\n",
       "      <td>0</td>\n",
       "      <td>0</td>\n",
       "    </tr>\n",
       "    <tr>\n",
       "      <th>11</th>\n",
       "      <td>somebody invariably try add religion really me...</td>\n",
       "      <td>0</td>\n",
       "      <td>0</td>\n",
       "      <td>0</td>\n",
       "      <td>0</td>\n",
       "      <td>0</td>\n",
       "      <td>0</td>\n",
       "    </tr>\n",
       "    <tr>\n",
       "      <th>13</th>\n",
       "      <td>says right type type institution needed case t...</td>\n",
       "      <td>0</td>\n",
       "      <td>0</td>\n",
       "      <td>0</td>\n",
       "      <td>0</td>\n",
       "      <td>0</td>\n",
       "      <td>0</td>\n",
       "    </tr>\n",
       "    <tr>\n",
       "      <th>14</th>\n",
       "      <td>adding new product list make sure relevant add...</td>\n",
       "      <td>0</td>\n",
       "      <td>0</td>\n",
       "      <td>0</td>\n",
       "      <td>0</td>\n",
       "      <td>0</td>\n",
       "      <td>0</td>\n",
       "    </tr>\n",
       "  </tbody>\n",
       "</table>\n",
       "</div>"
      ],
      "text/plain": [
       "                                         comment_text  toxic  severe_toxic  \\\n",
       "5   thank understanding think highly would revert ...      0             0   \n",
       "7                              dear god site horrible      0             0   \n",
       "11  somebody invariably try add religion really me...      0             0   \n",
       "13  says right type type institution needed case t...      0             0   \n",
       "14  adding new product list make sure relevant add...      0             0   \n",
       "\n",
       "    obscene  threat  insult  identity_hate  \n",
       "5         0       0       0              0  \n",
       "7         0       0       0              0  \n",
       "11        0       0       0              0  \n",
       "13        0       0       0              0  \n",
       "14        0       0       0              0  "
      ]
     },
     "execution_count": 44,
     "metadata": {},
     "output_type": "execute_result"
    }
   ],
   "source": [
    "y_hats_basic.head()"
   ]
  },
  {
   "cell_type": "code",
   "execution_count": 45,
   "metadata": {},
   "outputs": [
    {
     "name": "stdout",
     "output_type": "stream",
     "text": [
      "2000/2000 [==============================] - 136s 68ms/step\n",
      "2000/2000 [==============================] - 145s 72ms/step\n",
      "2000/2000 [==============================] - 148s 74ms/step\n"
     ]
    }
   ],
   "source": [
    "#RNNs prediction\n",
    "#%store -r advanced advanced_b\n",
    "y_hats_advanced = advanced.predict(xg_seq)\n",
    "y_hats_advanced_b = advanced_b.predict(xg_seq)\n",
    "y_hats_advanced_m = advanced_m.predict(xg_seq)"
   ]
  },
  {
   "cell_type": "code",
   "execution_count": 46,
   "metadata": {},
   "outputs": [],
   "source": [
    "y_hats_chain = classifier_chain.predict(x_g)\n",
    "y_hats_chain_b = classifier_chain_b.predict(x_g)\n",
    "y_hats_chain_m = classifier_chain_m.predict(x_g)"
   ]
  },
  {
   "cell_type": "code",
   "execution_count": 47,
   "metadata": {},
   "outputs": [],
   "source": [
    "classes_headers = np.array(classes)\n",
    "def test_accuracy_basic(y_hats_df):\n",
    "    df = y_hats_df.drop('comment_text', axis=1)\n",
    "    df.mask(df > 0.5,  1, inplace = True)\n",
    "    df.mask(df <= 0.5, 0, inplace = True)\n",
    "    return df\n",
    "def test_accuracy_advanced(y_hats):\n",
    "    df = pd.concat([pd.DataFrame(y_hats, columns=classes_headers)], 1)\n",
    "    df.mask(df > 0.5,  1, inplace = True)\n",
    "    df.mask(df <= 0.5, 0, inplace = True)\n",
    "    return df"
   ]
  },
  {
   "cell_type": "code",
   "execution_count": 48,
   "metadata": {},
   "outputs": [],
   "source": [
    "basic_predict_test = test_accuracy_basic(y_hats_basic)\n",
    "basic_predict_test_b = test_accuracy_basic(y_hats_basic_b)\n",
    "basic_predict_test_m = test_accuracy_basic(y_hats_basic_m)\n",
    "\n",
    "rnn_predict_test = test_accuracy_advanced(y_hats_advanced)\n",
    "rnn_predict_test_b = test_accuracy_advanced(y_hats_advanced_b)\n",
    "rnn_predict_test_m = test_accuracy_advanced(y_hats_advanced_m)\n",
    "\n",
    "chain_predict_test = test_accuracy_advanced(y_hats_chain)\n",
    "chain_predict_test_b = test_accuracy_advanced(y_hats_chain_b)\n",
    "chain_predict_test_m = test_accuracy_advanced(y_hats_chain_m)"
   ]
  },
  {
   "cell_type": "code",
   "execution_count": 49,
   "metadata": {},
   "outputs": [],
   "source": [
    "# rnn_predict_test = pd.concat([test['id'],rnn_predict_test],1)\n",
    "# rnn_predict_test_b = pd.concat([test['id'],rnn_predict_test_b],1)\n",
    "# rnn_predict_test_m = pd.concat([test['id'],rnn_predict_test_m],1)"
   ]
  },
  {
   "cell_type": "code",
   "execution_count": 50,
   "metadata": {},
   "outputs": [
    {
     "data": {
      "text/html": [
       "<div>\n",
       "<style scoped>\n",
       "    .dataframe tbody tr th:only-of-type {\n",
       "        vertical-align: middle;\n",
       "    }\n",
       "\n",
       "    .dataframe tbody tr th {\n",
       "        vertical-align: top;\n",
       "    }\n",
       "\n",
       "    .dataframe thead th {\n",
       "        text-align: right;\n",
       "    }\n",
       "</style>\n",
       "<table border=\"1\" class=\"dataframe\">\n",
       "  <thead>\n",
       "    <tr style=\"text-align: right;\">\n",
       "      <th></th>\n",
       "      <th>toxic</th>\n",
       "      <th>severe_toxic</th>\n",
       "      <th>obscene</th>\n",
       "      <th>threat</th>\n",
       "      <th>insult</th>\n",
       "      <th>identity_hate</th>\n",
       "    </tr>\n",
       "  </thead>\n",
       "  <tbody>\n",
       "    <tr>\n",
       "      <th>5</th>\n",
       "      <td>0</td>\n",
       "      <td>0</td>\n",
       "      <td>0</td>\n",
       "      <td>0</td>\n",
       "      <td>0</td>\n",
       "      <td>0</td>\n",
       "    </tr>\n",
       "    <tr>\n",
       "      <th>7</th>\n",
       "      <td>0</td>\n",
       "      <td>0</td>\n",
       "      <td>0</td>\n",
       "      <td>0</td>\n",
       "      <td>0</td>\n",
       "      <td>0</td>\n",
       "    </tr>\n",
       "    <tr>\n",
       "      <th>11</th>\n",
       "      <td>0</td>\n",
       "      <td>0</td>\n",
       "      <td>0</td>\n",
       "      <td>0</td>\n",
       "      <td>0</td>\n",
       "      <td>0</td>\n",
       "    </tr>\n",
       "    <tr>\n",
       "      <th>13</th>\n",
       "      <td>0</td>\n",
       "      <td>0</td>\n",
       "      <td>0</td>\n",
       "      <td>0</td>\n",
       "      <td>0</td>\n",
       "      <td>0</td>\n",
       "    </tr>\n",
       "    <tr>\n",
       "      <th>14</th>\n",
       "      <td>0</td>\n",
       "      <td>0</td>\n",
       "      <td>0</td>\n",
       "      <td>0</td>\n",
       "      <td>0</td>\n",
       "      <td>0</td>\n",
       "    </tr>\n",
       "  </tbody>\n",
       "</table>\n",
       "</div>"
      ],
      "text/plain": [
       "    toxic  severe_toxic  obscene  threat  insult  identity_hate\n",
       "5       0             0        0       0       0              0\n",
       "7       0             0        0       0       0              0\n",
       "11      0             0        0       0       0              0\n",
       "13      0             0        0       0       0              0\n",
       "14      0             0        0       0       0              0"
      ]
     },
     "execution_count": 50,
     "metadata": {},
     "output_type": "execute_result"
    }
   ],
   "source": [
    "basic_predict_test.head()"
   ]
  },
  {
   "cell_type": "code",
   "execution_count": 51,
   "metadata": {},
   "outputs": [
    {
     "data": {
      "text/html": [
       "<div>\n",
       "<style scoped>\n",
       "    .dataframe tbody tr th:only-of-type {\n",
       "        vertical-align: middle;\n",
       "    }\n",
       "\n",
       "    .dataframe tbody tr th {\n",
       "        vertical-align: top;\n",
       "    }\n",
       "\n",
       "    .dataframe thead th {\n",
       "        text-align: right;\n",
       "    }\n",
       "</style>\n",
       "<table border=\"1\" class=\"dataframe\">\n",
       "  <thead>\n",
       "    <tr style=\"text-align: right;\">\n",
       "      <th></th>\n",
       "      <th>toxic</th>\n",
       "      <th>severe_toxic</th>\n",
       "      <th>obscene</th>\n",
       "      <th>threat</th>\n",
       "      <th>insult</th>\n",
       "      <th>identity_hate</th>\n",
       "    </tr>\n",
       "  </thead>\n",
       "  <tbody>\n",
       "    <tr>\n",
       "      <th>0</th>\n",
       "      <td>0.0</td>\n",
       "      <td>0.0</td>\n",
       "      <td>0.0</td>\n",
       "      <td>0.0</td>\n",
       "      <td>0.0</td>\n",
       "      <td>0.0</td>\n",
       "    </tr>\n",
       "    <tr>\n",
       "      <th>1</th>\n",
       "      <td>0.0</td>\n",
       "      <td>0.0</td>\n",
       "      <td>0.0</td>\n",
       "      <td>0.0</td>\n",
       "      <td>0.0</td>\n",
       "      <td>0.0</td>\n",
       "    </tr>\n",
       "    <tr>\n",
       "      <th>2</th>\n",
       "      <td>0.0</td>\n",
       "      <td>0.0</td>\n",
       "      <td>0.0</td>\n",
       "      <td>0.0</td>\n",
       "      <td>0.0</td>\n",
       "      <td>0.0</td>\n",
       "    </tr>\n",
       "    <tr>\n",
       "      <th>3</th>\n",
       "      <td>0.0</td>\n",
       "      <td>0.0</td>\n",
       "      <td>0.0</td>\n",
       "      <td>0.0</td>\n",
       "      <td>0.0</td>\n",
       "      <td>0.0</td>\n",
       "    </tr>\n",
       "    <tr>\n",
       "      <th>4</th>\n",
       "      <td>0.0</td>\n",
       "      <td>0.0</td>\n",
       "      <td>0.0</td>\n",
       "      <td>0.0</td>\n",
       "      <td>0.0</td>\n",
       "      <td>0.0</td>\n",
       "    </tr>\n",
       "  </tbody>\n",
       "</table>\n",
       "</div>"
      ],
      "text/plain": [
       "   toxic  severe_toxic  obscene  threat  insult  identity_hate\n",
       "0    0.0           0.0      0.0     0.0     0.0            0.0\n",
       "1    0.0           0.0      0.0     0.0     0.0            0.0\n",
       "2    0.0           0.0      0.0     0.0     0.0            0.0\n",
       "3    0.0           0.0      0.0     0.0     0.0            0.0\n",
       "4    0.0           0.0      0.0     0.0     0.0            0.0"
      ]
     },
     "execution_count": 51,
     "metadata": {},
     "output_type": "execute_result"
    }
   ],
   "source": [
    "rnn_predict_test.head()"
   ]
  },
  {
   "cell_type": "code",
   "execution_count": 52,
   "metadata": {},
   "outputs": [
    {
     "data": {
      "text/html": [
       "<div>\n",
       "<style scoped>\n",
       "    .dataframe tbody tr th:only-of-type {\n",
       "        vertical-align: middle;\n",
       "    }\n",
       "\n",
       "    .dataframe tbody tr th {\n",
       "        vertical-align: top;\n",
       "    }\n",
       "\n",
       "    .dataframe thead th {\n",
       "        text-align: right;\n",
       "    }\n",
       "</style>\n",
       "<table border=\"1\" class=\"dataframe\">\n",
       "  <thead>\n",
       "    <tr style=\"text-align: right;\">\n",
       "      <th></th>\n",
       "      <th>toxic</th>\n",
       "      <th>severe_toxic</th>\n",
       "      <th>obscene</th>\n",
       "      <th>threat</th>\n",
       "      <th>insult</th>\n",
       "      <th>identity_hate</th>\n",
       "    </tr>\n",
       "  </thead>\n",
       "  <tbody>\n",
       "    <tr>\n",
       "      <th>0</th>\n",
       "      <td>0.0</td>\n",
       "      <td>0.0</td>\n",
       "      <td>0.0</td>\n",
       "      <td>0.0</td>\n",
       "      <td>0.0</td>\n",
       "      <td>0.0</td>\n",
       "    </tr>\n",
       "    <tr>\n",
       "      <th>1</th>\n",
       "      <td>0.0</td>\n",
       "      <td>0.0</td>\n",
       "      <td>0.0</td>\n",
       "      <td>0.0</td>\n",
       "      <td>0.0</td>\n",
       "      <td>0.0</td>\n",
       "    </tr>\n",
       "    <tr>\n",
       "      <th>2</th>\n",
       "      <td>0.0</td>\n",
       "      <td>0.0</td>\n",
       "      <td>0.0</td>\n",
       "      <td>0.0</td>\n",
       "      <td>0.0</td>\n",
       "      <td>0.0</td>\n",
       "    </tr>\n",
       "    <tr>\n",
       "      <th>3</th>\n",
       "      <td>0.0</td>\n",
       "      <td>0.0</td>\n",
       "      <td>0.0</td>\n",
       "      <td>0.0</td>\n",
       "      <td>0.0</td>\n",
       "      <td>0.0</td>\n",
       "    </tr>\n",
       "    <tr>\n",
       "      <th>4</th>\n",
       "      <td>0.0</td>\n",
       "      <td>0.0</td>\n",
       "      <td>0.0</td>\n",
       "      <td>0.0</td>\n",
       "      <td>0.0</td>\n",
       "      <td>0.0</td>\n",
       "    </tr>\n",
       "  </tbody>\n",
       "</table>\n",
       "</div>"
      ],
      "text/plain": [
       "   toxic  severe_toxic  obscene  threat  insult  identity_hate\n",
       "0    0.0           0.0      0.0     0.0     0.0            0.0\n",
       "1    0.0           0.0      0.0     0.0     0.0            0.0\n",
       "2    0.0           0.0      0.0     0.0     0.0            0.0\n",
       "3    0.0           0.0      0.0     0.0     0.0            0.0\n",
       "4    0.0           0.0      0.0     0.0     0.0            0.0"
      ]
     },
     "execution_count": 52,
     "metadata": {},
     "output_type": "execute_result"
    }
   ],
   "source": [
    "chain_predict_test.head()"
   ]
  },
  {
   "cell_type": "code",
   "execution_count": 53,
   "metadata": {},
   "outputs": [],
   "source": [
    "def get_accuracy(Y_hat, label): return np.mean(Y_hat.loc[:,label].values == test.loc[:,label].values)\n",
    "def get_false_positive(Y_hat, label): return np.mean((Y_hat.loc[:,label].values == 1) & (test.loc[:,label].values == 0))    \n",
    "def get_false_negative(Y_hat, label): return np.mean((Y_hat.loc[:,label].values == 0) & (test.loc[:,label].values == 1))"
   ]
  },
  {
   "cell_type": "code",
   "execution_count": 54,
   "metadata": {},
   "outputs": [],
   "source": [
    "models_index = ['logistic_full','logistic_balanced','logistic_mini'\n",
    "                ,'rnn_full','rnn_balanced','rnn_mini'\n",
    "               ,'chain_full','chain_balanced','chain_mini']\n",
    "y_hats_list = [basic_predict_test, basic_predict_test_b, basic_predict_test_m\n",
    "              ,rnn_predict_test,   rnn_predict_test_b,   rnn_predict_test_m\n",
    "              ,chain_predict_test, chain_predict_test_b, chain_predict_test_m]\n",
    "scores = ['_accuracy','_false_pos','_false_neg']\n",
    "score_functions = [get_accuracy, get_false_positive, get_false_negative]\n",
    "scores_headers = []\n",
    "for h in classes_headers: scores_headers.extend([''.join((h,score)) for score in scores])\n",
    "\n",
    "scores_df = pd.DataFrame(columns=scores_headers, index=models_index)\n",
    "for c in classes:\n",
    "    for index, y_hat in zip(models_index, y_hats_list):\n",
    "        for score, score_function in zip(scores, score_functions):\n",
    "            scores_df[''.join((c,score))][index] = round(score_function(y_hat, c), 5)"
   ]
  },
  {
   "cell_type": "code",
   "execution_count": 55,
   "metadata": {},
   "outputs": [
    {
     "data": {
      "text/html": [
       "<div>\n",
       "<style scoped>\n",
       "    .dataframe tbody tr th:only-of-type {\n",
       "        vertical-align: middle;\n",
       "    }\n",
       "\n",
       "    .dataframe tbody tr th {\n",
       "        vertical-align: top;\n",
       "    }\n",
       "\n",
       "    .dataframe thead th {\n",
       "        text-align: right;\n",
       "    }\n",
       "</style>\n",
       "<table border=\"1\" class=\"dataframe\">\n",
       "  <thead>\n",
       "    <tr style=\"text-align: right;\">\n",
       "      <th></th>\n",
       "      <th>toxic_accuracy</th>\n",
       "      <th>toxic_false_pos</th>\n",
       "      <th>toxic_false_neg</th>\n",
       "      <th>severe_toxic_accuracy</th>\n",
       "      <th>severe_toxic_false_pos</th>\n",
       "      <th>severe_toxic_false_neg</th>\n",
       "      <th>obscene_accuracy</th>\n",
       "      <th>obscene_false_pos</th>\n",
       "      <th>obscene_false_neg</th>\n",
       "      <th>threat_accuracy</th>\n",
       "      <th>threat_false_pos</th>\n",
       "      <th>threat_false_neg</th>\n",
       "      <th>insult_accuracy</th>\n",
       "      <th>insult_false_pos</th>\n",
       "      <th>insult_false_neg</th>\n",
       "      <th>identity_hate_accuracy</th>\n",
       "      <th>identity_hate_false_pos</th>\n",
       "      <th>identity_hate_false_neg</th>\n",
       "    </tr>\n",
       "  </thead>\n",
       "  <tbody>\n",
       "    <tr>\n",
       "      <th>logistic_full</th>\n",
       "      <td>0.91691</td>\n",
       "      <td>0.00364</td>\n",
       "      <td>0.07945</td>\n",
       "      <td>0.99408</td>\n",
       "      <td>0.00067</td>\n",
       "      <td>0.00525</td>\n",
       "      <td>0.95302</td>\n",
       "      <td>0.00166</td>\n",
       "      <td>0.04533</td>\n",
       "      <td>0.9967</td>\n",
       "      <td>0.0</td>\n",
       "      <td>0.0033</td>\n",
       "      <td>0.95076</td>\n",
       "      <td>0.00219</td>\n",
       "      <td>0.04705</td>\n",
       "      <td>0.98887</td>\n",
       "      <td>0.0</td>\n",
       "      <td>0.01113</td>\n",
       "    </tr>\n",
       "    <tr>\n",
       "      <th>logistic_balanced</th>\n",
       "      <td>0.84065</td>\n",
       "      <td>0.10751</td>\n",
       "      <td>0.05185</td>\n",
       "      <td>0.99301</td>\n",
       "      <td>0.00184</td>\n",
       "      <td>0.00514</td>\n",
       "      <td>0.95311</td>\n",
       "      <td>0.00666</td>\n",
       "      <td>0.04023</td>\n",
       "      <td>0.99661</td>\n",
       "      <td>0.00009</td>\n",
       "      <td>0.0033</td>\n",
       "      <td>0.94939</td>\n",
       "      <td>0.00656</td>\n",
       "      <td>0.04405</td>\n",
       "      <td>0.98875</td>\n",
       "      <td>0.00013</td>\n",
       "      <td>0.01113</td>\n",
       "    </tr>\n",
       "    <tr>\n",
       "      <th>logistic_mini</th>\n",
       "      <td>0.9142</td>\n",
       "      <td>0.0015</td>\n",
       "      <td>0.08429</td>\n",
       "      <td>0.99423</td>\n",
       "      <td>0.00025</td>\n",
       "      <td>0.00552</td>\n",
       "      <td>0.95092</td>\n",
       "      <td>0.00091</td>\n",
       "      <td>0.04817</td>\n",
       "      <td>0.9967</td>\n",
       "      <td>0.0</td>\n",
       "      <td>0.0033</td>\n",
       "      <td>0.9508</td>\n",
       "      <td>0.00239</td>\n",
       "      <td>0.04681</td>\n",
       "      <td>0.98887</td>\n",
       "      <td>0.0</td>\n",
       "      <td>0.01113</td>\n",
       "    </tr>\n",
       "    <tr>\n",
       "      <th>rnn_full</th>\n",
       "      <td>0.79682</td>\n",
       "      <td>0.11526</td>\n",
       "      <td>0.08792</td>\n",
       "      <td>0.99422</td>\n",
       "      <td>0.00006</td>\n",
       "      <td>0.00572</td>\n",
       "      <td>0.88352</td>\n",
       "      <td>0.06065</td>\n",
       "      <td>0.05583</td>\n",
       "      <td>0.99669</td>\n",
       "      <td>0.00002</td>\n",
       "      <td>0.0033</td>\n",
       "      <td>0.92233</td>\n",
       "      <td>0.02496</td>\n",
       "      <td>0.05271</td>\n",
       "      <td>0.98834</td>\n",
       "      <td>0.00055</td>\n",
       "      <td>0.01111</td>\n",
       "    </tr>\n",
       "    <tr>\n",
       "      <th>rnn_balanced</th>\n",
       "      <td>0.68663</td>\n",
       "      <td>0.25151</td>\n",
       "      <td>0.06187</td>\n",
       "      <td>0.99369</td>\n",
       "      <td>0.0008</td>\n",
       "      <td>0.00552</td>\n",
       "      <td>0.86814</td>\n",
       "      <td>0.08887</td>\n",
       "      <td>0.04298</td>\n",
       "      <td>0.9967</td>\n",
       "      <td>0.0</td>\n",
       "      <td>0.0033</td>\n",
       "      <td>0.89926</td>\n",
       "      <td>0.05549</td>\n",
       "      <td>0.04525</td>\n",
       "      <td>0.98065</td>\n",
       "      <td>0.00836</td>\n",
       "      <td>0.01099</td>\n",
       "    </tr>\n",
       "    <tr>\n",
       "      <th>rnn_mini</th>\n",
       "      <td>0.83305</td>\n",
       "      <td>0.08237</td>\n",
       "      <td>0.08458</td>\n",
       "      <td>0.99398</td>\n",
       "      <td>0.00031</td>\n",
       "      <td>0.00571</td>\n",
       "      <td>0.90511</td>\n",
       "      <td>0.0409</td>\n",
       "      <td>0.05399</td>\n",
       "      <td>0.9967</td>\n",
       "      <td>0.0</td>\n",
       "      <td>0.0033</td>\n",
       "      <td>0.92377</td>\n",
       "      <td>0.02421</td>\n",
       "      <td>0.05202</td>\n",
       "      <td>0.98823</td>\n",
       "      <td>0.00064</td>\n",
       "      <td>0.01113</td>\n",
       "    </tr>\n",
       "    <tr>\n",
       "      <th>chain_full</th>\n",
       "      <td>0.91655</td>\n",
       "      <td>0.00253</td>\n",
       "      <td>0.08092</td>\n",
       "      <td>0.99428</td>\n",
       "      <td>0.0003</td>\n",
       "      <td>0.00542</td>\n",
       "      <td>0.95298</td>\n",
       "      <td>0.00169</td>\n",
       "      <td>0.04533</td>\n",
       "      <td>0.9967</td>\n",
       "      <td>0.0</td>\n",
       "      <td>0.0033</td>\n",
       "      <td>0.95147</td>\n",
       "      <td>0.00502</td>\n",
       "      <td>0.04351</td>\n",
       "      <td>0.98887</td>\n",
       "      <td>0.0</td>\n",
       "      <td>0.01113</td>\n",
       "    </tr>\n",
       "    <tr>\n",
       "      <th>chain_balanced</th>\n",
       "      <td>0.87071</td>\n",
       "      <td>0.07146</td>\n",
       "      <td>0.05783</td>\n",
       "      <td>0.99426</td>\n",
       "      <td>0.00027</td>\n",
       "      <td>0.00547</td>\n",
       "      <td>0.95317</td>\n",
       "      <td>0.0066</td>\n",
       "      <td>0.04023</td>\n",
       "      <td>0.9967</td>\n",
       "      <td>0.0</td>\n",
       "      <td>0.0033</td>\n",
       "      <td>0.94995</td>\n",
       "      <td>0.00974</td>\n",
       "      <td>0.04031</td>\n",
       "      <td>0.98875</td>\n",
       "      <td>0.00013</td>\n",
       "      <td>0.01113</td>\n",
       "    </tr>\n",
       "    <tr>\n",
       "      <th>chain_mini</th>\n",
       "      <td>0.91416</td>\n",
       "      <td>0.00083</td>\n",
       "      <td>0.08501</td>\n",
       "      <td>0.99422</td>\n",
       "      <td>0.00023</td>\n",
       "      <td>0.00555</td>\n",
       "      <td>0.95092</td>\n",
       "      <td>0.00091</td>\n",
       "      <td>0.04817</td>\n",
       "      <td>0.9967</td>\n",
       "      <td>0.0</td>\n",
       "      <td>0.0033</td>\n",
       "      <td>0.95114</td>\n",
       "      <td>0.00295</td>\n",
       "      <td>0.04591</td>\n",
       "      <td>0.98887</td>\n",
       "      <td>0.0</td>\n",
       "      <td>0.01113</td>\n",
       "    </tr>\n",
       "  </tbody>\n",
       "</table>\n",
       "</div>"
      ],
      "text/plain": [
       "                  toxic_accuracy toxic_false_pos toxic_false_neg  \\\n",
       "logistic_full            0.91691         0.00364         0.07945   \n",
       "logistic_balanced        0.84065         0.10751         0.05185   \n",
       "logistic_mini             0.9142          0.0015         0.08429   \n",
       "rnn_full                 0.79682         0.11526         0.08792   \n",
       "rnn_balanced             0.68663         0.25151         0.06187   \n",
       "rnn_mini                 0.83305         0.08237         0.08458   \n",
       "chain_full               0.91655         0.00253         0.08092   \n",
       "chain_balanced           0.87071         0.07146         0.05783   \n",
       "chain_mini               0.91416         0.00083         0.08501   \n",
       "\n",
       "                  severe_toxic_accuracy severe_toxic_false_pos  \\\n",
       "logistic_full                   0.99408                0.00067   \n",
       "logistic_balanced               0.99301                0.00184   \n",
       "logistic_mini                   0.99423                0.00025   \n",
       "rnn_full                        0.99422                0.00006   \n",
       "rnn_balanced                    0.99369                 0.0008   \n",
       "rnn_mini                        0.99398                0.00031   \n",
       "chain_full                      0.99428                 0.0003   \n",
       "chain_balanced                  0.99426                0.00027   \n",
       "chain_mini                      0.99422                0.00023   \n",
       "\n",
       "                  severe_toxic_false_neg obscene_accuracy obscene_false_pos  \\\n",
       "logistic_full                    0.00525          0.95302           0.00166   \n",
       "logistic_balanced                0.00514          0.95311           0.00666   \n",
       "logistic_mini                    0.00552          0.95092           0.00091   \n",
       "rnn_full                         0.00572          0.88352           0.06065   \n",
       "rnn_balanced                     0.00552          0.86814           0.08887   \n",
       "rnn_mini                         0.00571          0.90511            0.0409   \n",
       "chain_full                       0.00542          0.95298           0.00169   \n",
       "chain_balanced                   0.00547          0.95317            0.0066   \n",
       "chain_mini                       0.00555          0.95092           0.00091   \n",
       "\n",
       "                  obscene_false_neg threat_accuracy threat_false_pos  \\\n",
       "logistic_full               0.04533          0.9967              0.0   \n",
       "logistic_balanced           0.04023         0.99661          0.00009   \n",
       "logistic_mini               0.04817          0.9967              0.0   \n",
       "rnn_full                    0.05583         0.99669          0.00002   \n",
       "rnn_balanced                0.04298          0.9967              0.0   \n",
       "rnn_mini                    0.05399          0.9967              0.0   \n",
       "chain_full                  0.04533          0.9967              0.0   \n",
       "chain_balanced              0.04023          0.9967              0.0   \n",
       "chain_mini                  0.04817          0.9967              0.0   \n",
       "\n",
       "                  threat_false_neg insult_accuracy insult_false_pos  \\\n",
       "logistic_full               0.0033         0.95076          0.00219   \n",
       "logistic_balanced           0.0033         0.94939          0.00656   \n",
       "logistic_mini               0.0033          0.9508          0.00239   \n",
       "rnn_full                    0.0033         0.92233          0.02496   \n",
       "rnn_balanced                0.0033         0.89926          0.05549   \n",
       "rnn_mini                    0.0033         0.92377          0.02421   \n",
       "chain_full                  0.0033         0.95147          0.00502   \n",
       "chain_balanced              0.0033         0.94995          0.00974   \n",
       "chain_mini                  0.0033         0.95114          0.00295   \n",
       "\n",
       "                  insult_false_neg identity_hate_accuracy  \\\n",
       "logistic_full              0.04705                0.98887   \n",
       "logistic_balanced          0.04405                0.98875   \n",
       "logistic_mini              0.04681                0.98887   \n",
       "rnn_full                   0.05271                0.98834   \n",
       "rnn_balanced               0.04525                0.98065   \n",
       "rnn_mini                   0.05202                0.98823   \n",
       "chain_full                 0.04351                0.98887   \n",
       "chain_balanced             0.04031                0.98875   \n",
       "chain_mini                 0.04591                0.98887   \n",
       "\n",
       "                  identity_hate_false_pos identity_hate_false_neg  \n",
       "logistic_full                         0.0                 0.01113  \n",
       "logistic_balanced                 0.00013                 0.01113  \n",
       "logistic_mini                         0.0                 0.01113  \n",
       "rnn_full                          0.00055                 0.01111  \n",
       "rnn_balanced                      0.00836                 0.01099  \n",
       "rnn_mini                          0.00064                 0.01113  \n",
       "chain_full                            0.0                 0.01113  \n",
       "chain_balanced                    0.00013                 0.01113  \n",
       "chain_mini                            0.0                 0.01113  "
      ]
     },
     "execution_count": 55,
     "metadata": {},
     "output_type": "execute_result"
    }
   ],
   "source": [
    "scores_df"
   ]
  }
 ],
 "metadata": {
  "kernelspec": {
   "display_name": "Python 3 (ipykernel)",
   "language": "python",
   "name": "python3"
  },
  "language_info": {
   "codemirror_mode": {
    "name": "ipython",
    "version": 3
   },
   "file_extension": ".py",
   "mimetype": "text/x-python",
   "name": "python",
   "nbconvert_exporter": "python",
   "pygments_lexer": "ipython3",
   "version": "3.8.6"
  },
  "vscode": {
   "interpreter": {
    "hash": "22bb70f96bf7e47111bd4bb9b840751f151fb19b0846b32d457012897dcab25d"
   }
  }
 },
 "nbformat": 4,
 "nbformat_minor": 4
}
